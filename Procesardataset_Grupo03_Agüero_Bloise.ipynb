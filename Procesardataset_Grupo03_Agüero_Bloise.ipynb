{
  "nbformat": 4,
  "nbformat_minor": 0,
  "metadata": {
    "colab": {
      "provenance": [],
      "collapsed_sections": [],
      "include_colab_link": true
    },
    "kernelspec": {
      "name": "python3",
      "display_name": "Python 3"
    },
    "language_info": {
      "name": "python"
    }
  },
  "cells": [
    {
      "cell_type": "markdown",
      "metadata": {
        "id": "view-in-github",
        "colab_type": "text"
      },
      "source": [
        "<a href=\"https://colab.research.google.com/github/CeciiBloise/Tecnicatura-Superior-en-Ciencias-de-Datos-e-Inteligencia-Artificial/blob/main/Procesardataset_Grupo03_Ag%C3%BCero_Bloise.ipynb\" target=\"_parent\"><img src=\"https://colab.research.google.com/assets/colab-badge.svg\" alt=\"Open In Colab\"/></a>"
      ]
    },
    {
      "cell_type": "markdown",
      "source": [
        "#Actividad realizada en la materia desarrollo de progamas de ciencias de datos\n",
        "##Realizamos un analisis exploratorio del problema planteado en clase, cantidad de incendios por provincia"
      ],
      "metadata": {
        "id": "EIjqyQugdFp4"
      }
    },
    {
      "cell_type": "markdown",
      "source": [
        "## Importamos la libreria de panda ##"
      ],
      "metadata": {
        "id": "hn2vQj4XDpML"
      }
    },
    {
      "cell_type": "code",
      "source": [
        "import pandas as pd"
      ],
      "metadata": {
        "id": "KERkcfhrDs1J"
      },
      "execution_count": null,
      "outputs": []
    },
    {
      "cell_type": "markdown",
      "source": [
        "Lectura de un archivo .csv.\n"
      ],
      "metadata": {
        "id": "oUFk-z03D67G"
      }
    },
    {
      "cell_type": "code",
      "source": [
        "df=pd.read_csv('/content/incendios-cantidad-causas-provincia-grupo03.csv',sep=',')"
      ],
      "metadata": {
        "id": "4NPrKpEaD3hA"
      },
      "execution_count": null,
      "outputs": []
    },
    {
      "cell_type": "markdown",
      "source": [
        "# Ver información del dataframe"
      ],
      "metadata": {
        "id": "LTAT_PS6mg8n"
      }
    },
    {
      "cell_type": "code",
      "source": [
        "df.describe() "
      ],
      "metadata": {
        "colab": {
          "base_uri": "https://localhost:8080/",
          "height": 364
        },
        "id": "l84p9lXuEqoZ",
        "outputId": "723e43aa-0b1a-411a-9925-792fa7d74f5a"
      },
      "execution_count": null,
      "outputs": [
        {
          "output_type": "execute_result",
          "data": {
            "text/plain": [
              "       incendio_anio  incendio_total_numero  incendio_negligencia_numero  \\\n",
              "count     629.000000             629.000000                   629.000000   \n",
              "mean     2006.047695             357.310016                    91.828299   \n",
              "std         7.747053             854.145208                   233.155662   \n",
              "min      1993.000000               0.000000                     0.000000   \n",
              "25%      1999.000000              22.000000                     1.000000   \n",
              "50%      2006.000000              91.000000                    15.000000   \n",
              "75%      2013.000000             275.000000                    80.000000   \n",
              "max      2019.000000           10321.000000                  2693.000000   \n",
              "\n",
              "       incendio_intencional_numero  incendio_natural_numero  \\\n",
              "count                   629.000000               629.000000   \n",
              "mean                     76.019078                18.216216   \n",
              "std                     195.112322                72.382395   \n",
              "min                       0.000000                 0.000000   \n",
              "25%                       0.000000                 0.000000   \n",
              "50%                       6.000000                 0.000000   \n",
              "75%                      54.000000                 6.000000   \n",
              "max                    1662.000000               836.000000   \n",
              "\n",
              "       incendio_desconocida_numero  \n",
              "count                   629.000000  \n",
              "mean                    171.246423  \n",
              "std                     582.823887  \n",
              "min                       0.000000  \n",
              "25%                       0.000000  \n",
              "50%                      16.000000  \n",
              "75%                     100.000000  \n",
              "max                    7530.000000  "
            ],
            "text/html": [
              "\n",
              "  <div id=\"df-9aca3f34-1580-4059-9ade-c346bd23908b\">\n",
              "    <div class=\"colab-df-container\">\n",
              "      <div>\n",
              "<style scoped>\n",
              "    .dataframe tbody tr th:only-of-type {\n",
              "        vertical-align: middle;\n",
              "    }\n",
              "\n",
              "    .dataframe tbody tr th {\n",
              "        vertical-align: top;\n",
              "    }\n",
              "\n",
              "    .dataframe thead th {\n",
              "        text-align: right;\n",
              "    }\n",
              "</style>\n",
              "<table border=\"1\" class=\"dataframe\">\n",
              "  <thead>\n",
              "    <tr style=\"text-align: right;\">\n",
              "      <th></th>\n",
              "      <th>incendio_anio</th>\n",
              "      <th>incendio_total_numero</th>\n",
              "      <th>incendio_negligencia_numero</th>\n",
              "      <th>incendio_intencional_numero</th>\n",
              "      <th>incendio_natural_numero</th>\n",
              "      <th>incendio_desconocida_numero</th>\n",
              "    </tr>\n",
              "  </thead>\n",
              "  <tbody>\n",
              "    <tr>\n",
              "      <th>count</th>\n",
              "      <td>629.000000</td>\n",
              "      <td>629.000000</td>\n",
              "      <td>629.000000</td>\n",
              "      <td>629.000000</td>\n",
              "      <td>629.000000</td>\n",
              "      <td>629.000000</td>\n",
              "    </tr>\n",
              "    <tr>\n",
              "      <th>mean</th>\n",
              "      <td>2006.047695</td>\n",
              "      <td>357.310016</td>\n",
              "      <td>91.828299</td>\n",
              "      <td>76.019078</td>\n",
              "      <td>18.216216</td>\n",
              "      <td>171.246423</td>\n",
              "    </tr>\n",
              "    <tr>\n",
              "      <th>std</th>\n",
              "      <td>7.747053</td>\n",
              "      <td>854.145208</td>\n",
              "      <td>233.155662</td>\n",
              "      <td>195.112322</td>\n",
              "      <td>72.382395</td>\n",
              "      <td>582.823887</td>\n",
              "    </tr>\n",
              "    <tr>\n",
              "      <th>min</th>\n",
              "      <td>1993.000000</td>\n",
              "      <td>0.000000</td>\n",
              "      <td>0.000000</td>\n",
              "      <td>0.000000</td>\n",
              "      <td>0.000000</td>\n",
              "      <td>0.000000</td>\n",
              "    </tr>\n",
              "    <tr>\n",
              "      <th>25%</th>\n",
              "      <td>1999.000000</td>\n",
              "      <td>22.000000</td>\n",
              "      <td>1.000000</td>\n",
              "      <td>0.000000</td>\n",
              "      <td>0.000000</td>\n",
              "      <td>0.000000</td>\n",
              "    </tr>\n",
              "    <tr>\n",
              "      <th>50%</th>\n",
              "      <td>2006.000000</td>\n",
              "      <td>91.000000</td>\n",
              "      <td>15.000000</td>\n",
              "      <td>6.000000</td>\n",
              "      <td>0.000000</td>\n",
              "      <td>16.000000</td>\n",
              "    </tr>\n",
              "    <tr>\n",
              "      <th>75%</th>\n",
              "      <td>2013.000000</td>\n",
              "      <td>275.000000</td>\n",
              "      <td>80.000000</td>\n",
              "      <td>54.000000</td>\n",
              "      <td>6.000000</td>\n",
              "      <td>100.000000</td>\n",
              "    </tr>\n",
              "    <tr>\n",
              "      <th>max</th>\n",
              "      <td>2019.000000</td>\n",
              "      <td>10321.000000</td>\n",
              "      <td>2693.000000</td>\n",
              "      <td>1662.000000</td>\n",
              "      <td>836.000000</td>\n",
              "      <td>7530.000000</td>\n",
              "    </tr>\n",
              "  </tbody>\n",
              "</table>\n",
              "</div>\n",
              "      <button class=\"colab-df-convert\" onclick=\"convertToInteractive('df-9aca3f34-1580-4059-9ade-c346bd23908b')\"\n",
              "              title=\"Convert this dataframe to an interactive table.\"\n",
              "              style=\"display:none;\">\n",
              "        \n",
              "  <svg xmlns=\"http://www.w3.org/2000/svg\" height=\"24px\"viewBox=\"0 0 24 24\"\n",
              "       width=\"24px\">\n",
              "    <path d=\"M0 0h24v24H0V0z\" fill=\"none\"/>\n",
              "    <path d=\"M18.56 5.44l.94 2.06.94-2.06 2.06-.94-2.06-.94-.94-2.06-.94 2.06-2.06.94zm-11 1L8.5 8.5l.94-2.06 2.06-.94-2.06-.94L8.5 2.5l-.94 2.06-2.06.94zm10 10l.94 2.06.94-2.06 2.06-.94-2.06-.94-.94-2.06-.94 2.06-2.06.94z\"/><path d=\"M17.41 7.96l-1.37-1.37c-.4-.4-.92-.59-1.43-.59-.52 0-1.04.2-1.43.59L10.3 9.45l-7.72 7.72c-.78.78-.78 2.05 0 2.83L4 21.41c.39.39.9.59 1.41.59.51 0 1.02-.2 1.41-.59l7.78-7.78 2.81-2.81c.8-.78.8-2.07 0-2.86zM5.41 20L4 18.59l7.72-7.72 1.47 1.35L5.41 20z\"/>\n",
              "  </svg>\n",
              "      </button>\n",
              "      \n",
              "  <style>\n",
              "    .colab-df-container {\n",
              "      display:flex;\n",
              "      flex-wrap:wrap;\n",
              "      gap: 12px;\n",
              "    }\n",
              "\n",
              "    .colab-df-convert {\n",
              "      background-color: #E8F0FE;\n",
              "      border: none;\n",
              "      border-radius: 50%;\n",
              "      cursor: pointer;\n",
              "      display: none;\n",
              "      fill: #1967D2;\n",
              "      height: 32px;\n",
              "      padding: 0 0 0 0;\n",
              "      width: 32px;\n",
              "    }\n",
              "\n",
              "    .colab-df-convert:hover {\n",
              "      background-color: #E2EBFA;\n",
              "      box-shadow: 0px 1px 2px rgba(60, 64, 67, 0.3), 0px 1px 3px 1px rgba(60, 64, 67, 0.15);\n",
              "      fill: #174EA6;\n",
              "    }\n",
              "\n",
              "    [theme=dark] .colab-df-convert {\n",
              "      background-color: #3B4455;\n",
              "      fill: #D2E3FC;\n",
              "    }\n",
              "\n",
              "    [theme=dark] .colab-df-convert:hover {\n",
              "      background-color: #434B5C;\n",
              "      box-shadow: 0px 1px 3px 1px rgba(0, 0, 0, 0.15);\n",
              "      filter: drop-shadow(0px 1px 2px rgba(0, 0, 0, 0.3));\n",
              "      fill: #FFFFFF;\n",
              "    }\n",
              "  </style>\n",
              "\n",
              "      <script>\n",
              "        const buttonEl =\n",
              "          document.querySelector('#df-9aca3f34-1580-4059-9ade-c346bd23908b button.colab-df-convert');\n",
              "        buttonEl.style.display =\n",
              "          google.colab.kernel.accessAllowed ? 'block' : 'none';\n",
              "\n",
              "        async function convertToInteractive(key) {\n",
              "          const element = document.querySelector('#df-9aca3f34-1580-4059-9ade-c346bd23908b');\n",
              "          const dataTable =\n",
              "            await google.colab.kernel.invokeFunction('convertToInteractive',\n",
              "                                                     [key], {});\n",
              "          if (!dataTable) return;\n",
              "\n",
              "          const docLinkHtml = 'Like what you see? Visit the ' +\n",
              "            '<a target=\"_blank\" href=https://colab.research.google.com/notebooks/data_table.ipynb>data table notebook</a>'\n",
              "            + ' to learn more about interactive tables.';\n",
              "          element.innerHTML = '';\n",
              "          dataTable['output_type'] = 'display_data';\n",
              "          await google.colab.output.renderOutput(dataTable, element);\n",
              "          const docLink = document.createElement('div');\n",
              "          docLink.innerHTML = docLinkHtml;\n",
              "          element.appendChild(docLink);\n",
              "        }\n",
              "      </script>\n",
              "    </div>\n",
              "  </div>\n",
              "  "
            ]
          },
          "metadata": {},
          "execution_count": 3
        }
      ]
    },
    {
      "cell_type": "markdown",
      "source": [
        "\n",
        "#Cantidad de datos en el data frame."
      ],
      "metadata": {
        "id": "ebO0gJ17Ex38"
      }
    },
    {
      "cell_type": "code",
      "source": [
        "print(df.shape) "
      ],
      "metadata": {
        "colab": {
          "base_uri": "https://localhost:8080/"
        },
        "id": "9ml8OplGE6Vc",
        "outputId": "b3c498c9-741f-4eda-8c77-5303bb11ba2c"
      },
      "execution_count": null,
      "outputs": [
        {
          "output_type": "stream",
          "name": "stdout",
          "text": [
            "(629, 7)\n"
          ]
        }
      ]
    },
    {
      "cell_type": "markdown",
      "source": [
        "#Primeros 5 registros de la serie."
      ],
      "metadata": {
        "id": "rfohcyFMFJ7p"
      }
    },
    {
      "cell_type": "code",
      "source": [
        "df.head()"
      ],
      "metadata": {
        "colab": {
          "base_uri": "https://localhost:8080/",
          "height": 270
        },
        "id": "z8W7kkoxFeRb",
        "outputId": "894418e0-3cce-4609-cf20-41cbcfcba1ae"
      },
      "execution_count": null,
      "outputs": [
        {
          "output_type": "execute_result",
          "data": {
            "text/plain": [
              "   incendio_anio incendio_provincia  incendio_total_numero  \\\n",
              "0           1993       Buenos Aires                      0   \n",
              "1           1993          Catamarca                      0   \n",
              "2           1993              Chaco                      0   \n",
              "3           1993             Chubut                     21   \n",
              "4           1993            C?rdoba                    151   \n",
              "\n",
              "   incendio_negligencia_numero  incendio_intencional_numero  \\\n",
              "0                            0                            0   \n",
              "1                            0                            0   \n",
              "2                            0                            0   \n",
              "3                           18                            0   \n",
              "4                            0                            0   \n",
              "\n",
              "   incendio_natural_numero  incendio_desconocida_numero  \n",
              "0                        0                            0  \n",
              "1                        0                            0  \n",
              "2                        0                            0  \n",
              "3                        0                            3  \n",
              "4                        0                          151  "
            ],
            "text/html": [
              "\n",
              "  <div id=\"df-b2ae97e7-e578-40d0-b309-450e35ecaaf2\">\n",
              "    <div class=\"colab-df-container\">\n",
              "      <div>\n",
              "<style scoped>\n",
              "    .dataframe tbody tr th:only-of-type {\n",
              "        vertical-align: middle;\n",
              "    }\n",
              "\n",
              "    .dataframe tbody tr th {\n",
              "        vertical-align: top;\n",
              "    }\n",
              "\n",
              "    .dataframe thead th {\n",
              "        text-align: right;\n",
              "    }\n",
              "</style>\n",
              "<table border=\"1\" class=\"dataframe\">\n",
              "  <thead>\n",
              "    <tr style=\"text-align: right;\">\n",
              "      <th></th>\n",
              "      <th>incendio_anio</th>\n",
              "      <th>incendio_provincia</th>\n",
              "      <th>incendio_total_numero</th>\n",
              "      <th>incendio_negligencia_numero</th>\n",
              "      <th>incendio_intencional_numero</th>\n",
              "      <th>incendio_natural_numero</th>\n",
              "      <th>incendio_desconocida_numero</th>\n",
              "    </tr>\n",
              "  </thead>\n",
              "  <tbody>\n",
              "    <tr>\n",
              "      <th>0</th>\n",
              "      <td>1993</td>\n",
              "      <td>Buenos Aires</td>\n",
              "      <td>0</td>\n",
              "      <td>0</td>\n",
              "      <td>0</td>\n",
              "      <td>0</td>\n",
              "      <td>0</td>\n",
              "    </tr>\n",
              "    <tr>\n",
              "      <th>1</th>\n",
              "      <td>1993</td>\n",
              "      <td>Catamarca</td>\n",
              "      <td>0</td>\n",
              "      <td>0</td>\n",
              "      <td>0</td>\n",
              "      <td>0</td>\n",
              "      <td>0</td>\n",
              "    </tr>\n",
              "    <tr>\n",
              "      <th>2</th>\n",
              "      <td>1993</td>\n",
              "      <td>Chaco</td>\n",
              "      <td>0</td>\n",
              "      <td>0</td>\n",
              "      <td>0</td>\n",
              "      <td>0</td>\n",
              "      <td>0</td>\n",
              "    </tr>\n",
              "    <tr>\n",
              "      <th>3</th>\n",
              "      <td>1993</td>\n",
              "      <td>Chubut</td>\n",
              "      <td>21</td>\n",
              "      <td>18</td>\n",
              "      <td>0</td>\n",
              "      <td>0</td>\n",
              "      <td>3</td>\n",
              "    </tr>\n",
              "    <tr>\n",
              "      <th>4</th>\n",
              "      <td>1993</td>\n",
              "      <td>C?rdoba</td>\n",
              "      <td>151</td>\n",
              "      <td>0</td>\n",
              "      <td>0</td>\n",
              "      <td>0</td>\n",
              "      <td>151</td>\n",
              "    </tr>\n",
              "  </tbody>\n",
              "</table>\n",
              "</div>\n",
              "      <button class=\"colab-df-convert\" onclick=\"convertToInteractive('df-b2ae97e7-e578-40d0-b309-450e35ecaaf2')\"\n",
              "              title=\"Convert this dataframe to an interactive table.\"\n",
              "              style=\"display:none;\">\n",
              "        \n",
              "  <svg xmlns=\"http://www.w3.org/2000/svg\" height=\"24px\"viewBox=\"0 0 24 24\"\n",
              "       width=\"24px\">\n",
              "    <path d=\"M0 0h24v24H0V0z\" fill=\"none\"/>\n",
              "    <path d=\"M18.56 5.44l.94 2.06.94-2.06 2.06-.94-2.06-.94-.94-2.06-.94 2.06-2.06.94zm-11 1L8.5 8.5l.94-2.06 2.06-.94-2.06-.94L8.5 2.5l-.94 2.06-2.06.94zm10 10l.94 2.06.94-2.06 2.06-.94-2.06-.94-.94-2.06-.94 2.06-2.06.94z\"/><path d=\"M17.41 7.96l-1.37-1.37c-.4-.4-.92-.59-1.43-.59-.52 0-1.04.2-1.43.59L10.3 9.45l-7.72 7.72c-.78.78-.78 2.05 0 2.83L4 21.41c.39.39.9.59 1.41.59.51 0 1.02-.2 1.41-.59l7.78-7.78 2.81-2.81c.8-.78.8-2.07 0-2.86zM5.41 20L4 18.59l7.72-7.72 1.47 1.35L5.41 20z\"/>\n",
              "  </svg>\n",
              "      </button>\n",
              "      \n",
              "  <style>\n",
              "    .colab-df-container {\n",
              "      display:flex;\n",
              "      flex-wrap:wrap;\n",
              "      gap: 12px;\n",
              "    }\n",
              "\n",
              "    .colab-df-convert {\n",
              "      background-color: #E8F0FE;\n",
              "      border: none;\n",
              "      border-radius: 50%;\n",
              "      cursor: pointer;\n",
              "      display: none;\n",
              "      fill: #1967D2;\n",
              "      height: 32px;\n",
              "      padding: 0 0 0 0;\n",
              "      width: 32px;\n",
              "    }\n",
              "\n",
              "    .colab-df-convert:hover {\n",
              "      background-color: #E2EBFA;\n",
              "      box-shadow: 0px 1px 2px rgba(60, 64, 67, 0.3), 0px 1px 3px 1px rgba(60, 64, 67, 0.15);\n",
              "      fill: #174EA6;\n",
              "    }\n",
              "\n",
              "    [theme=dark] .colab-df-convert {\n",
              "      background-color: #3B4455;\n",
              "      fill: #D2E3FC;\n",
              "    }\n",
              "\n",
              "    [theme=dark] .colab-df-convert:hover {\n",
              "      background-color: #434B5C;\n",
              "      box-shadow: 0px 1px 3px 1px rgba(0, 0, 0, 0.15);\n",
              "      filter: drop-shadow(0px 1px 2px rgba(0, 0, 0, 0.3));\n",
              "      fill: #FFFFFF;\n",
              "    }\n",
              "  </style>\n",
              "\n",
              "      <script>\n",
              "        const buttonEl =\n",
              "          document.querySelector('#df-b2ae97e7-e578-40d0-b309-450e35ecaaf2 button.colab-df-convert');\n",
              "        buttonEl.style.display =\n",
              "          google.colab.kernel.accessAllowed ? 'block' : 'none';\n",
              "\n",
              "        async function convertToInteractive(key) {\n",
              "          const element = document.querySelector('#df-b2ae97e7-e578-40d0-b309-450e35ecaaf2');\n",
              "          const dataTable =\n",
              "            await google.colab.kernel.invokeFunction('convertToInteractive',\n",
              "                                                     [key], {});\n",
              "          if (!dataTable) return;\n",
              "\n",
              "          const docLinkHtml = 'Like what you see? Visit the ' +\n",
              "            '<a target=\"_blank\" href=https://colab.research.google.com/notebooks/data_table.ipynb>data table notebook</a>'\n",
              "            + ' to learn more about interactive tables.';\n",
              "          element.innerHTML = '';\n",
              "          dataTable['output_type'] = 'display_data';\n",
              "          await google.colab.output.renderOutput(dataTable, element);\n",
              "          const docLink = document.createElement('div');\n",
              "          docLink.innerHTML = docLinkHtml;\n",
              "          element.appendChild(docLink);\n",
              "        }\n",
              "      </script>\n",
              "    </div>\n",
              "  </div>\n",
              "  "
            ]
          },
          "metadata": {},
          "execution_count": 6
        }
      ]
    },
    {
      "cell_type": "markdown",
      "source": [
        "#Ultimos 5 registros de la serie se utiliza la instrucción tail"
      ],
      "metadata": {
        "id": "-vDzMR-OFiUy"
      }
    },
    {
      "cell_type": "code",
      "source": [
        "df.tail()"
      ],
      "metadata": {
        "colab": {
          "base_uri": "https://localhost:8080/",
          "height": 270
        },
        "id": "gX91GAvrFuu5",
        "outputId": "a4ffba43-e1d7-4a0a-b49d-0b578517c7c4"
      },
      "execution_count": null,
      "outputs": [
        {
          "output_type": "execute_result",
          "data": {
            "text/plain": [
              "     incendio_anio   incendio_provincia  incendio_total_numero  \\\n",
              "624           2019             San Juan                   1223   \n",
              "625           2019             San Luis                     47   \n",
              "626           2019           Santa Cruz                     10   \n",
              "627           2019  Santiago del Estero                    122   \n",
              "628           2019         Buenos Aires                   1441   \n",
              "\n",
              "     incendio_negligencia_numero  incendio_intencional_numero  \\\n",
              "624                          234                          989   \n",
              "625                           20                           11   \n",
              "626                            5                            0   \n",
              "627                            0                            0   \n",
              "628                            0                            0   \n",
              "\n",
              "     incendio_natural_numero  incendio_desconocida_numero  \n",
              "624                        0                            0  \n",
              "625                        0                           16  \n",
              "626                        0                            5  \n",
              "627                        0                          122  \n",
              "628                        0                         1441  "
            ],
            "text/html": [
              "\n",
              "  <div id=\"df-68f97028-c05d-4d1e-80ec-5d39ef307412\">\n",
              "    <div class=\"colab-df-container\">\n",
              "      <div>\n",
              "<style scoped>\n",
              "    .dataframe tbody tr th:only-of-type {\n",
              "        vertical-align: middle;\n",
              "    }\n",
              "\n",
              "    .dataframe tbody tr th {\n",
              "        vertical-align: top;\n",
              "    }\n",
              "\n",
              "    .dataframe thead th {\n",
              "        text-align: right;\n",
              "    }\n",
              "</style>\n",
              "<table border=\"1\" class=\"dataframe\">\n",
              "  <thead>\n",
              "    <tr style=\"text-align: right;\">\n",
              "      <th></th>\n",
              "      <th>incendio_anio</th>\n",
              "      <th>incendio_provincia</th>\n",
              "      <th>incendio_total_numero</th>\n",
              "      <th>incendio_negligencia_numero</th>\n",
              "      <th>incendio_intencional_numero</th>\n",
              "      <th>incendio_natural_numero</th>\n",
              "      <th>incendio_desconocida_numero</th>\n",
              "    </tr>\n",
              "  </thead>\n",
              "  <tbody>\n",
              "    <tr>\n",
              "      <th>624</th>\n",
              "      <td>2019</td>\n",
              "      <td>San Juan</td>\n",
              "      <td>1223</td>\n",
              "      <td>234</td>\n",
              "      <td>989</td>\n",
              "      <td>0</td>\n",
              "      <td>0</td>\n",
              "    </tr>\n",
              "    <tr>\n",
              "      <th>625</th>\n",
              "      <td>2019</td>\n",
              "      <td>San Luis</td>\n",
              "      <td>47</td>\n",
              "      <td>20</td>\n",
              "      <td>11</td>\n",
              "      <td>0</td>\n",
              "      <td>16</td>\n",
              "    </tr>\n",
              "    <tr>\n",
              "      <th>626</th>\n",
              "      <td>2019</td>\n",
              "      <td>Santa Cruz</td>\n",
              "      <td>10</td>\n",
              "      <td>5</td>\n",
              "      <td>0</td>\n",
              "      <td>0</td>\n",
              "      <td>5</td>\n",
              "    </tr>\n",
              "    <tr>\n",
              "      <th>627</th>\n",
              "      <td>2019</td>\n",
              "      <td>Santiago del Estero</td>\n",
              "      <td>122</td>\n",
              "      <td>0</td>\n",
              "      <td>0</td>\n",
              "      <td>0</td>\n",
              "      <td>122</td>\n",
              "    </tr>\n",
              "    <tr>\n",
              "      <th>628</th>\n",
              "      <td>2019</td>\n",
              "      <td>Buenos Aires</td>\n",
              "      <td>1441</td>\n",
              "      <td>0</td>\n",
              "      <td>0</td>\n",
              "      <td>0</td>\n",
              "      <td>1441</td>\n",
              "    </tr>\n",
              "  </tbody>\n",
              "</table>\n",
              "</div>\n",
              "      <button class=\"colab-df-convert\" onclick=\"convertToInteractive('df-68f97028-c05d-4d1e-80ec-5d39ef307412')\"\n",
              "              title=\"Convert this dataframe to an interactive table.\"\n",
              "              style=\"display:none;\">\n",
              "        \n",
              "  <svg xmlns=\"http://www.w3.org/2000/svg\" height=\"24px\"viewBox=\"0 0 24 24\"\n",
              "       width=\"24px\">\n",
              "    <path d=\"M0 0h24v24H0V0z\" fill=\"none\"/>\n",
              "    <path d=\"M18.56 5.44l.94 2.06.94-2.06 2.06-.94-2.06-.94-.94-2.06-.94 2.06-2.06.94zm-11 1L8.5 8.5l.94-2.06 2.06-.94-2.06-.94L8.5 2.5l-.94 2.06-2.06.94zm10 10l.94 2.06.94-2.06 2.06-.94-2.06-.94-.94-2.06-.94 2.06-2.06.94z\"/><path d=\"M17.41 7.96l-1.37-1.37c-.4-.4-.92-.59-1.43-.59-.52 0-1.04.2-1.43.59L10.3 9.45l-7.72 7.72c-.78.78-.78 2.05 0 2.83L4 21.41c.39.39.9.59 1.41.59.51 0 1.02-.2 1.41-.59l7.78-7.78 2.81-2.81c.8-.78.8-2.07 0-2.86zM5.41 20L4 18.59l7.72-7.72 1.47 1.35L5.41 20z\"/>\n",
              "  </svg>\n",
              "      </button>\n",
              "      \n",
              "  <style>\n",
              "    .colab-df-container {\n",
              "      display:flex;\n",
              "      flex-wrap:wrap;\n",
              "      gap: 12px;\n",
              "    }\n",
              "\n",
              "    .colab-df-convert {\n",
              "      background-color: #E8F0FE;\n",
              "      border: none;\n",
              "      border-radius: 50%;\n",
              "      cursor: pointer;\n",
              "      display: none;\n",
              "      fill: #1967D2;\n",
              "      height: 32px;\n",
              "      padding: 0 0 0 0;\n",
              "      width: 32px;\n",
              "    }\n",
              "\n",
              "    .colab-df-convert:hover {\n",
              "      background-color: #E2EBFA;\n",
              "      box-shadow: 0px 1px 2px rgba(60, 64, 67, 0.3), 0px 1px 3px 1px rgba(60, 64, 67, 0.15);\n",
              "      fill: #174EA6;\n",
              "    }\n",
              "\n",
              "    [theme=dark] .colab-df-convert {\n",
              "      background-color: #3B4455;\n",
              "      fill: #D2E3FC;\n",
              "    }\n",
              "\n",
              "    [theme=dark] .colab-df-convert:hover {\n",
              "      background-color: #434B5C;\n",
              "      box-shadow: 0px 1px 3px 1px rgba(0, 0, 0, 0.15);\n",
              "      filter: drop-shadow(0px 1px 2px rgba(0, 0, 0, 0.3));\n",
              "      fill: #FFFFFF;\n",
              "    }\n",
              "  </style>\n",
              "\n",
              "      <script>\n",
              "        const buttonEl =\n",
              "          document.querySelector('#df-68f97028-c05d-4d1e-80ec-5d39ef307412 button.colab-df-convert');\n",
              "        buttonEl.style.display =\n",
              "          google.colab.kernel.accessAllowed ? 'block' : 'none';\n",
              "\n",
              "        async function convertToInteractive(key) {\n",
              "          const element = document.querySelector('#df-68f97028-c05d-4d1e-80ec-5d39ef307412');\n",
              "          const dataTable =\n",
              "            await google.colab.kernel.invokeFunction('convertToInteractive',\n",
              "                                                     [key], {});\n",
              "          if (!dataTable) return;\n",
              "\n",
              "          const docLinkHtml = 'Like what you see? Visit the ' +\n",
              "            '<a target=\"_blank\" href=https://colab.research.google.com/notebooks/data_table.ipynb>data table notebook</a>'\n",
              "            + ' to learn more about interactive tables.';\n",
              "          element.innerHTML = '';\n",
              "          dataTable['output_type'] = 'display_data';\n",
              "          await google.colab.output.renderOutput(dataTable, element);\n",
              "          const docLink = document.createElement('div');\n",
              "          docLink.innerHTML = docLinkHtml;\n",
              "          element.appendChild(docLink);\n",
              "        }\n",
              "      </script>\n",
              "    </div>\n",
              "  </div>\n",
              "  "
            ]
          },
          "metadata": {},
          "execution_count": 7
        }
      ]
    },
    {
      "cell_type": "markdown",
      "source": [
        "# Diccionario de los campos de la base \n",
        "\n"
      ],
      "metadata": {
        "id": "ZallI-slmDjj"
      }
    },
    {
      "cell_type": "markdown",
      "source": [
        "\n",
        "**incendio_anio** -> Año de incendio\n",
        "\n",
        "**incendio_provincia** -> Provincia\n",
        "\n",
        "**incendio_total_numero** -> Numero de incendios totales\n",
        "\n",
        "**incendio_negligencia_numero** -> Numero de incendios por negligencia\n",
        "\n",
        "**incendio_intencional_numero** -> Numero de incendios intencionales\n",
        "\n",
        "**incendio_natural_numero** -> Numero de incendios por causas naturales\n",
        "\n",
        "**incendio_desconocida_numero** -> Numero de incendios por causas desconocidas"
      ],
      "metadata": {
        "id": "EBULOsLnF5Af"
      }
    },
    {
      "cell_type": "code",
      "source": [
        "df.dtypes #Tipo de datos del dataframe"
      ],
      "metadata": {
        "colab": {
          "base_uri": "https://localhost:8080/"
        },
        "id": "l903kesdHHYo",
        "outputId": "ee3e6683-9dec-451d-f12c-38ca9d624b84"
      },
      "execution_count": null,
      "outputs": [
        {
          "output_type": "execute_result",
          "data": {
            "text/plain": [
              "incendio_anio                   int64\n",
              "incendio_provincia             object\n",
              "incendio_total_numero           int64\n",
              "incendio_negligencia_numero     int64\n",
              "incendio_intencional_numero     int64\n",
              "incendio_natural_numero         int64\n",
              "incendio_desconocida_numero     int64\n",
              "dtype: object"
            ]
          },
          "metadata": {},
          "execution_count": 8
        }
      ]
    },
    {
      "cell_type": "markdown",
      "source": [
        "#Ordenamos de manera descendente los campos con valores nulos"
      ],
      "metadata": {
        "id": "eLk0SXNdHQMd"
      }
    },
    {
      "cell_type": "code",
      "source": [
        "df.isnull().sum().sort_values(ascending = False)"
      ],
      "metadata": {
        "colab": {
          "base_uri": "https://localhost:8080/"
        },
        "id": "OOpymUmCHV2J",
        "outputId": "af1da78e-02a0-4bb4-a101-da987b8064e1"
      },
      "execution_count": null,
      "outputs": [
        {
          "output_type": "execute_result",
          "data": {
            "text/plain": [
              "incendio_anio                  0\n",
              "incendio_provincia             0\n",
              "incendio_total_numero          0\n",
              "incendio_negligencia_numero    0\n",
              "incendio_intencional_numero    0\n",
              "incendio_natural_numero        0\n",
              "incendio_desconocida_numero    0\n",
              "dtype: int64"
            ]
          },
          "metadata": {},
          "execution_count": 9
        }
      ]
    },
    {
      "cell_type": "markdown",
      "source": [
        "#No poseemos valores nulos\n"
      ],
      "metadata": {
        "id": "p1-ubqJfHbQs"
      }
    },
    {
      "cell_type": "markdown",
      "source": [
        "## Eliminación de un campo"
      ],
      "metadata": {
        "id": "TOF6WFTxnP2c"
      }
    },
    {
      "cell_type": "markdown",
      "source": [
        "\n",
        "Consideramos que no debemos borrar ningún campo porque queremos predecir la cantidad de incendios por provincia y la cantidad de causas en común por las que se produjeron los incendios en las distintas provincias, por ende todos los campos actuales son necesarios.\n",
        "Pero podemos eliminar aquellas provincias qud no tuvieron incendios en los últimos 20 años"
      ],
      "metadata": {
        "id": "MxZxNkDhH6W4"
      }
    },
    {
      "cell_type": "code",
      "source": [
        "df = df.drop(df[df['incendio_anio']<1999].index)"
      ],
      "metadata": {
        "colab": {
          "base_uri": "https://localhost:8080/",
          "height": 270
        },
        "id": "PAkGWpzGKSkH",
        "outputId": "e69a89f4-5c26-4cc0-e498-d32c70a73aa4"
      },
      "execution_count": null,
      "outputs": [
        {
          "output_type": "execute_result",
          "data": {
            "text/plain": [
              "     incendio_anio incendio_provincia  incendio_total_numero  \\\n",
              "136           1999       Buenos Aires                   4645   \n",
              "137           1999          Catamarca                      6   \n",
              "138           1999              Chaco                    557   \n",
              "139           1999             Chubut                    145   \n",
              "140           1999            C?rdoba                     55   \n",
              "\n",
              "     incendio_negligencia_numero  incendio_intencional_numero  \\\n",
              "136                         1874                          447   \n",
              "137                            3                            3   \n",
              "138                           34                          503   \n",
              "139                           57                           47   \n",
              "140                            2                            0   \n",
              "\n",
              "     incendio_natural_numero  incendio_desconocida_numero  \n",
              "136                      642                         1682  \n",
              "137                        0                            0  \n",
              "138                        0                           20  \n",
              "139                        0                           41  \n",
              "140                        0                           53  "
            ],
            "text/html": [
              "\n",
              "  <div id=\"df-e1250ee5-ef46-474c-9d9c-5e1b096edb69\">\n",
              "    <div class=\"colab-df-container\">\n",
              "      <div>\n",
              "<style scoped>\n",
              "    .dataframe tbody tr th:only-of-type {\n",
              "        vertical-align: middle;\n",
              "    }\n",
              "\n",
              "    .dataframe tbody tr th {\n",
              "        vertical-align: top;\n",
              "    }\n",
              "\n",
              "    .dataframe thead th {\n",
              "        text-align: right;\n",
              "    }\n",
              "</style>\n",
              "<table border=\"1\" class=\"dataframe\">\n",
              "  <thead>\n",
              "    <tr style=\"text-align: right;\">\n",
              "      <th></th>\n",
              "      <th>incendio_anio</th>\n",
              "      <th>incendio_provincia</th>\n",
              "      <th>incendio_total_numero</th>\n",
              "      <th>incendio_negligencia_numero</th>\n",
              "      <th>incendio_intencional_numero</th>\n",
              "      <th>incendio_natural_numero</th>\n",
              "      <th>incendio_desconocida_numero</th>\n",
              "    </tr>\n",
              "  </thead>\n",
              "  <tbody>\n",
              "    <tr>\n",
              "      <th>136</th>\n",
              "      <td>1999</td>\n",
              "      <td>Buenos Aires</td>\n",
              "      <td>4645</td>\n",
              "      <td>1874</td>\n",
              "      <td>447</td>\n",
              "      <td>642</td>\n",
              "      <td>1682</td>\n",
              "    </tr>\n",
              "    <tr>\n",
              "      <th>137</th>\n",
              "      <td>1999</td>\n",
              "      <td>Catamarca</td>\n",
              "      <td>6</td>\n",
              "      <td>3</td>\n",
              "      <td>3</td>\n",
              "      <td>0</td>\n",
              "      <td>0</td>\n",
              "    </tr>\n",
              "    <tr>\n",
              "      <th>138</th>\n",
              "      <td>1999</td>\n",
              "      <td>Chaco</td>\n",
              "      <td>557</td>\n",
              "      <td>34</td>\n",
              "      <td>503</td>\n",
              "      <td>0</td>\n",
              "      <td>20</td>\n",
              "    </tr>\n",
              "    <tr>\n",
              "      <th>139</th>\n",
              "      <td>1999</td>\n",
              "      <td>Chubut</td>\n",
              "      <td>145</td>\n",
              "      <td>57</td>\n",
              "      <td>47</td>\n",
              "      <td>0</td>\n",
              "      <td>41</td>\n",
              "    </tr>\n",
              "    <tr>\n",
              "      <th>140</th>\n",
              "      <td>1999</td>\n",
              "      <td>C?rdoba</td>\n",
              "      <td>55</td>\n",
              "      <td>2</td>\n",
              "      <td>0</td>\n",
              "      <td>0</td>\n",
              "      <td>53</td>\n",
              "    </tr>\n",
              "  </tbody>\n",
              "</table>\n",
              "</div>\n",
              "      <button class=\"colab-df-convert\" onclick=\"convertToInteractive('df-e1250ee5-ef46-474c-9d9c-5e1b096edb69')\"\n",
              "              title=\"Convert this dataframe to an interactive table.\"\n",
              "              style=\"display:none;\">\n",
              "        \n",
              "  <svg xmlns=\"http://www.w3.org/2000/svg\" height=\"24px\"viewBox=\"0 0 24 24\"\n",
              "       width=\"24px\">\n",
              "    <path d=\"M0 0h24v24H0V0z\" fill=\"none\"/>\n",
              "    <path d=\"M18.56 5.44l.94 2.06.94-2.06 2.06-.94-2.06-.94-.94-2.06-.94 2.06-2.06.94zm-11 1L8.5 8.5l.94-2.06 2.06-.94-2.06-.94L8.5 2.5l-.94 2.06-2.06.94zm10 10l.94 2.06.94-2.06 2.06-.94-2.06-.94-.94-2.06-.94 2.06-2.06.94z\"/><path d=\"M17.41 7.96l-1.37-1.37c-.4-.4-.92-.59-1.43-.59-.52 0-1.04.2-1.43.59L10.3 9.45l-7.72 7.72c-.78.78-.78 2.05 0 2.83L4 21.41c.39.39.9.59 1.41.59.51 0 1.02-.2 1.41-.59l7.78-7.78 2.81-2.81c.8-.78.8-2.07 0-2.86zM5.41 20L4 18.59l7.72-7.72 1.47 1.35L5.41 20z\"/>\n",
              "  </svg>\n",
              "      </button>\n",
              "      \n",
              "  <style>\n",
              "    .colab-df-container {\n",
              "      display:flex;\n",
              "      flex-wrap:wrap;\n",
              "      gap: 12px;\n",
              "    }\n",
              "\n",
              "    .colab-df-convert {\n",
              "      background-color: #E8F0FE;\n",
              "      border: none;\n",
              "      border-radius: 50%;\n",
              "      cursor: pointer;\n",
              "      display: none;\n",
              "      fill: #1967D2;\n",
              "      height: 32px;\n",
              "      padding: 0 0 0 0;\n",
              "      width: 32px;\n",
              "    }\n",
              "\n",
              "    .colab-df-convert:hover {\n",
              "      background-color: #E2EBFA;\n",
              "      box-shadow: 0px 1px 2px rgba(60, 64, 67, 0.3), 0px 1px 3px 1px rgba(60, 64, 67, 0.15);\n",
              "      fill: #174EA6;\n",
              "    }\n",
              "\n",
              "    [theme=dark] .colab-df-convert {\n",
              "      background-color: #3B4455;\n",
              "      fill: #D2E3FC;\n",
              "    }\n",
              "\n",
              "    [theme=dark] .colab-df-convert:hover {\n",
              "      background-color: #434B5C;\n",
              "      box-shadow: 0px 1px 3px 1px rgba(0, 0, 0, 0.15);\n",
              "      filter: drop-shadow(0px 1px 2px rgba(0, 0, 0, 0.3));\n",
              "      fill: #FFFFFF;\n",
              "    }\n",
              "  </style>\n",
              "\n",
              "      <script>\n",
              "        const buttonEl =\n",
              "          document.querySelector('#df-e1250ee5-ef46-474c-9d9c-5e1b096edb69 button.colab-df-convert');\n",
              "        buttonEl.style.display =\n",
              "          google.colab.kernel.accessAllowed ? 'block' : 'none';\n",
              "\n",
              "        async function convertToInteractive(key) {\n",
              "          const element = document.querySelector('#df-e1250ee5-ef46-474c-9d9c-5e1b096edb69');\n",
              "          const dataTable =\n",
              "            await google.colab.kernel.invokeFunction('convertToInteractive',\n",
              "                                                     [key], {});\n",
              "          if (!dataTable) return;\n",
              "\n",
              "          const docLinkHtml = 'Like what you see? Visit the ' +\n",
              "            '<a target=\"_blank\" href=https://colab.research.google.com/notebooks/data_table.ipynb>data table notebook</a>'\n",
              "            + ' to learn more about interactive tables.';\n",
              "          element.innerHTML = '';\n",
              "          dataTable['output_type'] = 'display_data';\n",
              "          await google.colab.output.renderOutput(dataTable, element);\n",
              "          const docLink = document.createElement('div');\n",
              "          docLink.innerHTML = docLinkHtml;\n",
              "          element.appendChild(docLink);\n",
              "        }\n",
              "      </script>\n",
              "    </div>\n",
              "  </div>\n",
              "  "
            ]
          },
          "metadata": {},
          "execution_count": 11
        }
      ]
    },
    {
      "cell_type": "code",
      "source": [
        "lugares=df['incendio_provincia'].unique() \n",
        "lugares.sort() #ordenamos los lugares alfabeticamente\n",
        "print(lugares) #Mostramos todos los lugares donde hubo incendios\n",
        "print(\"\\nCantidad de lugares en las que hubo incendios: \", len(lugares)) "
      ],
      "metadata": {
        "colab": {
          "base_uri": "https://localhost:8080/"
        },
        "id": "RxuPMS10Lsu1",
        "outputId": "784463a3-da12-4941-a364-314df9995ea5"
      },
      "execution_count": null,
      "outputs": [
        {
          "output_type": "stream",
          "name": "stdout",
          "text": [
            "['Buenos Aires' 'C?rdoba' 'Catamarca' 'Chaco' 'Chubut'\n",
            " 'Ciudad Aut?noma de Buenos Aires' 'Corrientes' 'Entre R?os' 'Formosa'\n",
            " 'Jujuy' 'La Pampa' 'La Rioja' 'Mendoza' 'Misiones' 'Neuqu?n'\n",
            " 'Parques Nacionales' 'R?o Negro' 'Salta' 'San Juan' 'San Luis'\n",
            " 'Santa Cruz' 'Santa F?' 'Santa Fe' 'Santiago del Estero'\n",
            " 'Tierra del Fuego' 'Tucum?n']\n",
            "\n",
            "Cantidad de lugares en las que hubo incendios:  26\n"
          ]
        }
      ]
    }
  ]
}